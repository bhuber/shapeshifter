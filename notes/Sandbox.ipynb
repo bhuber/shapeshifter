{
 "cells": [
  {
   "cell_type": "code",
   "execution_count": 1,
   "metadata": {
    "collapsed": false
   },
   "outputs": [],
   "source": [
    "import sys\n",
    "sys.path.insert(0, \"../py\")"
   ]
  },
  {
   "cell_type": "code",
   "execution_count": 2,
   "metadata": {
    "collapsed": false
   },
   "outputs": [],
   "source": [
    "from shapeshifter.grids import *"
   ]
  },
  {
   "cell_type": "code",
   "execution_count": 3,
   "metadata": {
    "collapsed": false
   },
   "outputs": [],
   "source": [
    "grid = Grid(3)\n",
    "shape = Shape(2, 2, [\n",
    "    0, 1,\n",
    "    1, 1\n",
    "])\n",
    "end_grid = Grid.create_from_ints([[0, 1, 0],\n",
    "                      [1, 2, 1],\n",
    "                      [1, 2, 1]])\n",
    "pathfinder = ShapePathFinder(grid, [shape, shape, shape], end_grid)\n",
    "grid_diff = (grid - end_grid)\n",
    "#next(pathfinder.find_shape_path())"
   ]
  },
  {
   "cell_type": "code",
   "execution_count": 4,
   "metadata": {
    "collapsed": false
   },
   "outputs": [
    {
     "data": {
      "text/plain": [
       "[(0, 0, Shape: [\n",
       "  0,1\n",
       "  1,1\n",
       "  ], Game Grid:[\n",
       "  0,1,0\n",
       "  1,1,0\n",
       "  0,0,0\n",
       "  ]), (0, 1, Shape: [\n",
       "  0,1\n",
       "  1,1\n",
       "  ], Game Grid:[\n",
       "  0,0,0\n",
       "  0,1,0\n",
       "  1,1,0\n",
       "  ]), (1, 1, Shape: [\n",
       "  0,1\n",
       "  1,1\n",
       "  ], Game Grid:[\n",
       "  0,0,0\n",
       "  0,0,1\n",
       "  0,1,1\n",
       "  ])]"
      ]
     },
     "execution_count": 4,
     "metadata": {},
     "output_type": "execute_result"
    }
   ],
   "source": [
    "next(pathfinder.find_shape_path())"
   ]
  },
  {
   "cell_type": "code",
   "execution_count": 5,
   "metadata": {
    "collapsed": false
   },
   "outputs": [
    {
     "data": {
      "text/plain": [
       "{'cell_count': 3,\n",
       " 'cells_remaining': 9,\n",
       " 'cols': 2,\n",
       " 'original_idx': 0,\n",
       " 'rows': 2,\n",
       " 'sorted_idx': 0,\n",
       " 'state': [False, True, True, True]}"
      ]
     },
     "execution_count": 5,
     "metadata": {},
     "output_type": "execute_result"
    }
   ],
   "source": [
    "pathfinder.__dict__\n",
    "pathfinder.sorted_shapes[0].__dict__"
   ]
  },
  {
   "cell_type": "code",
   "execution_count": 6,
   "metadata": {
    "collapsed": false
   },
   "outputs": [
    {
     "data": {
      "text/plain": [
       "Game Grid:[\n",
       "0,1,0\n",
       "1,1,1\n",
       "0,1,1\n",
       "]"
      ]
     },
     "execution_count": 6,
     "metadata": {},
     "output_type": "execute_result"
    }
   ],
   "source": [
    "Grid.create_from_ints([[0, 1, 0],\n",
    "                      [1, 1, 1],\n",
    "                      [0, 1, 1]])"
   ]
  },
  {
   "cell_type": "code",
   "execution_count": 7,
   "metadata": {
    "collapsed": false
   },
   "outputs": [],
   "source": [
    "# Cup: 0\n",
    "# Crown: 1\n",
    "# Sword: 2\n",
    "start = Grid.create_from_ints([\n",
    "    [2, 1, 1, 1],\n",
    "    [0, 1, 0, 0],\n",
    "    [0, 0, 1, 0],\n",
    "    [1, 1, 0, 2]\n",
    "])\n",
    "end = Grid.create_from_ints(4 * [4 * [2]])\n",
    "shape1 = Shape(3, 3, [\n",
    "    0, 1, 1,\n",
    "    0, 1, 0,\n",
    "    1, 1, 0\n",
    "])\n",
    "shapes = [\n",
    "    Shape(3, 3, [\n",
    "        0, 1, 0,\n",
    "        1, 1, 1,\n",
    "        0, 1, 0\n",
    "    ]),\n",
    "    Shape(2, 1, [1, 1]),\n",
    "    shape1,\n",
    "    shape1,\n",
    "    Shape(3, 3, [\n",
    "        1, 0, 0,\n",
    "        1, 1, 0,\n",
    "        0, 1, 1\n",
    "    ]),\n",
    "    Shape(1, 2, [\n",
    "        1,\n",
    "        1\n",
    "    ]),\n",
    "    Shape(3, 3, [\n",
    "        1, 1, 0,\n",
    "        0, 1, 0,\n",
    "        0, 1, 1\n",
    "    ]),\n",
    "    shape1,\n",
    "    Shape(3, 1, [1, 1, 1]),\n",
    "    shape1,\n",
    "    Shape(3, 3, [\n",
    "        1, 1, 0,\n",
    "        1, 1, 0,\n",
    "        0, 1, 1\n",
    "    ])\n",
    "]"
   ]
  },
  {
   "cell_type": "code",
   "execution_count": 8,
   "metadata": {
    "collapsed": false
   },
   "outputs": [],
   "source": [
    "pathfinder = ShapePathFinder(start, shapes, end)"
   ]
  },
  {
   "cell_type": "code",
   "execution_count": 9,
   "metadata": {
    "collapsed": false
   },
   "outputs": [
    {
     "data": {
      "text/plain": [
       "[(0, 1, Shape: [\n",
       "  0,1,0\n",
       "  1,1,1\n",
       "  0,1,0\n",
       "  ], Game Grid:[\n",
       "  2,1,1,1\n",
       "  0,2,0,0\n",
       "  1,1,2,0\n",
       "  1,2,0,2\n",
       "  ]), (2, 0, Shape: [\n",
       "  1,1\n",
       "  ], Game Grid:[\n",
       "  2,1,2,2\n",
       "  0,1,0,0\n",
       "  0,0,1,0\n",
       "  1,1,0,2\n",
       "  ]), (0, 0, Shape: [\n",
       "  0,1,1\n",
       "  0,1,0\n",
       "  1,1,0\n",
       "  ], Game Grid:[\n",
       "  2,2,2,1\n",
       "  0,2,0,0\n",
       "  1,1,1,0\n",
       "  1,1,0,2\n",
       "  ]), (0, 0, Shape: [\n",
       "  0,1,1\n",
       "  0,1,0\n",
       "  1,1,0\n",
       "  ], Game Grid:[\n",
       "  2,2,2,1\n",
       "  0,2,0,0\n",
       "  1,1,1,0\n",
       "  1,1,0,2\n",
       "  ]), (1, 0, Shape: [\n",
       "  1,0,0\n",
       "  1,1,0\n",
       "  0,1,1\n",
       "  ], Game Grid:[\n",
       "  2,2,1,1\n",
       "  0,2,1,0\n",
       "  0,0,2,1\n",
       "  1,1,0,2\n",
       "  ]), (0, 1, Shape: [\n",
       "  1\n",
       "  1\n",
       "  ], Game Grid:[\n",
       "  2,1,1,1\n",
       "  1,1,0,0\n",
       "  1,0,1,0\n",
       "  1,1,0,2\n",
       "  ]), (1, 0, Shape: [\n",
       "  1,1,0\n",
       "  0,1,0\n",
       "  0,1,1\n",
       "  ], Game Grid:[\n",
       "  2,2,2,1\n",
       "  0,1,1,0\n",
       "  0,0,2,1\n",
       "  1,1,0,2\n",
       "  ]), (0, 1, Shape: [\n",
       "  0,1,1\n",
       "  0,1,0\n",
       "  1,1,0\n",
       "  ], Game Grid:[\n",
       "  2,1,1,1\n",
       "  0,2,1,0\n",
       "  0,1,1,0\n",
       "  2,2,0,2\n",
       "  ]), (1, 1, Shape: [\n",
       "  1,1,1\n",
       "  ], Game Grid:[\n",
       "  2,1,1,1\n",
       "  0,2,1,1\n",
       "  0,0,1,0\n",
       "  1,1,0,2\n",
       "  ]), (1, 1, Shape: [\n",
       "  0,1,1\n",
       "  0,1,0\n",
       "  1,1,0\n",
       "  ], Game Grid:[\n",
       "  2,1,1,1\n",
       "  0,1,1,1\n",
       "  0,0,2,0\n",
       "  1,2,1,2\n",
       "  ]), (0, 1, Shape: [\n",
       "  1,1,0\n",
       "  1,1,0\n",
       "  0,1,1\n",
       "  ], Game Grid:[\n",
       "  2,1,1,1\n",
       "  1,2,0,0\n",
       "  1,1,1,0\n",
       "  1,2,1,2\n",
       "  ])]"
      ]
     },
     "execution_count": 9,
     "metadata": {},
     "output_type": "execute_result"
    }
   ],
   "source": [
    "next(pathfinder.find_shape_path())"
   ]
  },
  {
   "cell_type": "code",
   "execution_count": 10,
   "metadata": {
    "collapsed": false
   },
   "outputs": [
    {
     "data": {
      "text/plain": [
       "{'end_grid': Game Grid:[\n",
       " 2,2,2,2\n",
       " 2,2,2,2\n",
       " 2,2,2,2\n",
       " 2,2,2,2\n",
       " ],\n",
       " 'metrics_count_short_circuit': 19520,\n",
       " 'metrics_mod_short_circuit': 0,\n",
       " 'metrics_total_invocations': 25952,\n",
       " 'original_shapes': [Shape: [\n",
       "  0,1,0\n",
       "  1,1,1\n",
       "  0,1,0\n",
       "  ], Shape: [\n",
       "  1,1\n",
       "  ], Shape: [\n",
       "  0,1,1\n",
       "  0,1,0\n",
       "  1,1,0\n",
       "  ], Shape: [\n",
       "  0,1,1\n",
       "  0,1,0\n",
       "  1,1,0\n",
       "  ], Shape: [\n",
       "  1,0,0\n",
       "  1,1,0\n",
       "  0,1,1\n",
       "  ], Shape: [\n",
       "  1\n",
       "  1\n",
       "  ], Shape: [\n",
       "  1,1,0\n",
       "  0,1,0\n",
       "  0,1,1\n",
       "  ], Shape: [\n",
       "  0,1,1\n",
       "  0,1,0\n",
       "  1,1,0\n",
       "  ], Shape: [\n",
       "  1,1,1\n",
       "  ], Shape: [\n",
       "  0,1,1\n",
       "  0,1,0\n",
       "  1,1,0\n",
       "  ], Shape: [\n",
       "  1,1,0\n",
       "  1,1,0\n",
       "  0,1,1\n",
       "  ]],\n",
       " 'shapes_count_index': [48, 43, 38, 33, 28, 23, 18, 13, 7, 4, 2],\n",
       " 'sorted_shapes': [Shape: [\n",
       "  0,1,0\n",
       "  1,1,1\n",
       "  0,1,0\n",
       "  ], Shape: [\n",
       "  0,1,1\n",
       "  0,1,0\n",
       "  1,1,0\n",
       "  ], Shape: [\n",
       "  0,1,1\n",
       "  0,1,0\n",
       "  1,1,0\n",
       "  ], Shape: [\n",
       "  1,0,0\n",
       "  1,1,0\n",
       "  0,1,1\n",
       "  ], Shape: [\n",
       "  1,1,0\n",
       "  0,1,0\n",
       "  0,1,1\n",
       "  ], Shape: [\n",
       "  0,1,1\n",
       "  0,1,0\n",
       "  1,1,0\n",
       "  ], Shape: [\n",
       "  0,1,1\n",
       "  0,1,0\n",
       "  1,1,0\n",
       "  ], Shape: [\n",
       "  1,1,0\n",
       "  1,1,0\n",
       "  0,1,1\n",
       "  ], Shape: [\n",
       "  1,1,1\n",
       "  ], Shape: [\n",
       "  1,1\n",
       "  ], Shape: [\n",
       "  1\n",
       "  1\n",
       "  ]],\n",
       " 'sorted_to_original': {0: 0,\n",
       "  1: 2,\n",
       "  2: 3,\n",
       "  3: 4,\n",
       "  4: 6,\n",
       "  5: 7,\n",
       "  6: 9,\n",
       "  7: 10,\n",
       "  8: 8,\n",
       "  9: 1,\n",
       "  10: 5},\n",
       " 'start_grid': Game Grid:[\n",
       " 2,1,1,1\n",
       " 0,1,0,0\n",
       " 0,0,1,0\n",
       " 1,1,0,2\n",
       " ]}"
      ]
     },
     "execution_count": 10,
     "metadata": {},
     "output_type": "execute_result"
    }
   ],
   "source": [
    "pathfinder.__dict__"
   ]
  },
  {
   "cell_type": "code",
   "execution_count": null,
   "metadata": {
    "collapsed": true
   },
   "outputs": [],
   "source": []
  }
 ],
 "metadata": {
  "kernelspec": {
   "display_name": "Python 3",
   "language": "python",
   "name": "python3"
  },
  "language_info": {
   "codemirror_mode": {
    "name": "ipython",
    "version": 3
   },
   "file_extension": ".py",
   "mimetype": "text/x-python",
   "name": "python",
   "nbconvert_exporter": "python",
   "pygments_lexer": "ipython3",
   "version": "3.6.0"
  }
 },
 "nbformat": 4,
 "nbformat_minor": 2
}
