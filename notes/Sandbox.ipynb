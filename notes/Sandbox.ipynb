{
 "cells": [
  {
   "cell_type": "code",
   "execution_count": 10,
   "metadata": {
    "collapsed": false
   },
   "outputs": [],
   "source": [
    "import sys\n",
    "sys.path.insert(0, \"../py\")"
   ]
  },
  {
   "cell_type": "code",
   "execution_count": 15,
   "metadata": {
    "collapsed": false
   },
   "outputs": [],
   "source": [
    "from shapeshifter.grids import *"
   ]
  },
  {
   "cell_type": "code",
   "execution_count": 18,
   "metadata": {
    "collapsed": false
   },
   "outputs": [
    {
     "data": {
      "text/plain": [
       "[(0, 0, {'rows': 3, 'cols': 3, 'state':\n",
       "  [0, 1, 0]\n",
       "  [1, 1, 0]\n",
       "  [0, 0, 0]}), (0, 1, {'rows': 3, 'cols': 3, 'state':\n",
       "  [0, 1, 0]\n",
       "  [1, 2, 0]\n",
       "  [1, 1, 0]}), (1, 1, {'rows': 3, 'cols': 3, 'state':\n",
       "  [0, 1, 0]\n",
       "  [1, 2, 1]\n",
       "  [1, 2, 1]})]"
      ]
     },
     "execution_count": 18,
     "metadata": {},
     "output_type": "execute_result"
    }
   ],
   "source": [
    "grid = Grid(3)\n",
    "shape = Shape(2, 2, [\n",
    "    0, 1,\n",
    "    1, 1\n",
    "])\n",
    "end_grid = Grid.create_from_ints([[0, 1, 0],\n",
    "                      [1, 2, 1],\n",
    "                      [1, 2, 1]])\n",
    "next(find_shape_path(grid, [shape, shape, shape], end_grid))"
   ]
  },
  {
   "cell_type": "code",
   "execution_count": 19,
   "metadata": {
    "collapsed": false
   },
   "outputs": [
    {
     "data": {
      "text/plain": [
       "{'rows': 3, 'cols': 3, 'state':\n",
       "[0, 1, 0]\n",
       "[1, 1, 1]\n",
       "[0, 1, 1]}"
      ]
     },
     "execution_count": 19,
     "metadata": {},
     "output_type": "execute_result"
    }
   ],
   "source": [
    "grid.apply_shape(0, 0, shape).apply_shape(1, 1, shape)"
   ]
  },
  {
   "cell_type": "code",
   "execution_count": 20,
   "metadata": {
    "collapsed": false
   },
   "outputs": [
    {
     "data": {
      "text/plain": [
       "{'rows': 3, 'cols': 3, 'state':\n",
       "[0, 1, 0]\n",
       "[1, 1, 1]\n",
       "[0, 1, 1]}"
      ]
     },
     "execution_count": 20,
     "metadata": {},
     "output_type": "execute_result"
    }
   ],
   "source": [
    "Grid.create_from_ints([[0, 1, 0],\n",
    "                      [1, 1, 1],\n",
    "                      [0, 1, 1]])"
   ]
  },
  {
   "cell_type": "code",
   "execution_count": 21,
   "metadata": {
    "collapsed": false
   },
   "outputs": [],
   "source": [
    "# Cup: 0\n",
    "# Crown: 1\n",
    "# Sword: 2\n",
    "start = Grid.create_from_ints([\n",
    "    [2, 1, 1, 1],\n",
    "    [0, 1, 0, 0],\n",
    "    [0, 0, 1, 0],\n",
    "    [1, 1, 0, 2]\n",
    "])\n",
    "end = Grid.create_from_ints(4 * [4 * [2]])\n",
    "shape1 = Shape(3, 3, [\n",
    "    0, 1, 1,\n",
    "    0, 1, 0,\n",
    "    1, 1, 0\n",
    "])\n",
    "shapes = [\n",
    "    Shape(3, 3, [\n",
    "        0, 1, 0,\n",
    "        1, 1, 1,\n",
    "        0, 1, 0\n",
    "    ]),\n",
    "    Shape(1, 2, [1, 1]),\n",
    "    shape1,\n",
    "    shape1,\n",
    "    Shape(3, 3, [\n",
    "        1, 0, 0,\n",
    "        1, 1, 0,\n",
    "        0, 1, 1\n",
    "    ]),\n",
    "    Shape(2, 1, [\n",
    "        1,\n",
    "        1\n",
    "    ]),\n",
    "    Shape(3, 3, [\n",
    "        1, 1, 0,\n",
    "        0, 1, 0,\n",
    "        0, 1, 1\n",
    "    ]),\n",
    "    shape1,\n",
    "    Shape(1, 3, [1, 1, 1]),\n",
    "    shape1,\n",
    "    Shape(3, 3, [\n",
    "        1, 1, 0,\n",
    "        1, 1, 0,\n",
    "        0, 1, 1\n",
    "    ])\n",
    "]"
   ]
  },
  {
   "cell_type": "code",
   "execution_count": 34,
   "metadata": {
    "collapsed": false
   },
   "outputs": [
    {
     "data": {
      "text/plain": [
       "[(0, 1, {'rows': 4, 'cols': 4, 'state':\n",
       "  [2, 1, 1, 1]\n",
       "  [0, 2, 0, 0]\n",
       "  [1, 1, 2, 0]\n",
       "  [1, 2, 0, 2]}), (2, 0, {'rows': 4, 'cols': 4, 'state':\n",
       "  [2, 1, 2, 2]\n",
       "  [0, 2, 0, 0]\n",
       "  [1, 1, 2, 0]\n",
       "  [1, 2, 0, 2]}), (0, 0, {'rows': 4, 'cols': 4, 'state':\n",
       "  [2, 2, 0, 2]\n",
       "  [0, 0, 0, 0]\n",
       "  [2, 2, 2, 0]\n",
       "  [1, 2, 0, 2]}), (0, 0, {'rows': 4, 'cols': 4, 'state':\n",
       "  [2, 0, 1, 2]\n",
       "  [0, 1, 0, 0]\n",
       "  [0, 0, 2, 0]\n",
       "  [1, 2, 0, 2]}), (1, 0, {'rows': 4, 'cols': 4, 'state':\n",
       "  [2, 1, 1, 2]\n",
       "  [0, 2, 1, 0]\n",
       "  [0, 0, 0, 1]\n",
       "  [1, 2, 0, 2]}), (0, 1, {'rows': 4, 'cols': 4, 'state':\n",
       "  [2, 1, 1, 2]\n",
       "  [1, 2, 1, 0]\n",
       "  [1, 0, 0, 1]\n",
       "  [1, 2, 0, 2]}), (1, 0, {'rows': 4, 'cols': 4, 'state':\n",
       "  [2, 2, 2, 2]\n",
       "  [1, 2, 2, 0]\n",
       "  [1, 0, 1, 2]\n",
       "  [1, 2, 0, 2]}), (0, 1, {'rows': 4, 'cols': 4, 'state':\n",
       "  [2, 2, 2, 2]\n",
       "  [1, 0, 0, 0]\n",
       "  [1, 1, 1, 2]\n",
       "  [2, 0, 0, 2]}), (1, 1, {'rows': 4, 'cols': 4, 'state':\n",
       "  [2, 2, 2, 2]\n",
       "  [1, 1, 1, 1]\n",
       "  [1, 1, 1, 2]\n",
       "  [2, 0, 0, 2]}), (1, 1, {'rows': 4, 'cols': 4, 'state':\n",
       "  [2, 2, 2, 2]\n",
       "  [1, 1, 2, 2]\n",
       "  [1, 1, 2, 2]\n",
       "  [2, 1, 1, 2]}), (0, 1, {'rows': 4, 'cols': 4, 'state':\n",
       "  [2, 2, 2, 2]\n",
       "  [2, 2, 2, 2]\n",
       "  [2, 2, 2, 2]\n",
       "  [2, 2, 2, 2]})]"
      ]
     },
     "execution_count": 34,
     "metadata": {},
     "output_type": "execute_result"
    }
   ],
   "source": [
    "next(find_shape_path(start, shapes, end))"
   ]
  },
  {
   "cell_type": "code",
   "execution_count": 30,
   "metadata": {
    "collapsed": false
   },
   "outputs": [
    {
     "data": {
      "text/plain": [
       "{'rows': 4, 'cols': 4, 'state':\n",
       "[2, 1, 1, 1]\n",
       "[0, 1, 0, 0]\n",
       "[0, 0, 1, 0]\n",
       "[1, 1, 0, 2]}"
      ]
     },
     "execution_count": 30,
     "metadata": {},
     "output_type": "execute_result"
    }
   ],
   "source": [
    "start"
   ]
  },
  {
   "cell_type": "code",
   "execution_count": 33,
   "metadata": {
    "collapsed": false
   },
   "outputs": [
    {
     "data": {
      "text/plain": [
       "{'rows': 4, 'cols': 4, 'state':\n",
       "[2, 1, 1, 1]\n",
       "[0, 2, 0, 0]\n",
       "[1, 1, 2, 0]\n",
       "[1, 2, 0, 2]}"
      ]
     },
     "execution_count": 33,
     "metadata": {},
     "output_type": "execute_result"
    }
   ],
   "source": [
    "start.apply_shape(0, 1, shapes[0])"
   ]
  },
  {
   "cell_type": "code",
   "execution_count": 20,
   "metadata": {
    "collapsed": false
   },
   "outputs": [
    {
     "data": {
      "text/plain": [
       "[False, True, False, True, True, True, False, True, False]"
      ]
     },
     "execution_count": 20,
     "metadata": {},
     "output_type": "execute_result"
    }
   ],
   "source": [
    "shapes[0].mask"
   ]
  },
  {
   "cell_type": "code",
   "execution_count": null,
   "metadata": {
    "collapsed": true
   },
   "outputs": [],
   "source": []
  }
 ],
 "metadata": {
  "kernelspec": {
   "display_name": "Python 3",
   "language": "python",
   "name": "python3"
  },
  "language_info": {
   "codemirror_mode": {
    "name": "ipython",
    "version": 3
   },
   "file_extension": ".py",
   "mimetype": "text/x-python",
   "name": "python",
   "nbconvert_exporter": "python",
   "pygments_lexer": "ipython3",
   "version": "3.6.0"
  }
 },
 "nbformat": 4,
 "nbformat_minor": 2
}
