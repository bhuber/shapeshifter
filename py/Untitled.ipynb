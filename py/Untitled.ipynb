{
 "cells": [
  {
   "cell_type": "code",
   "execution_count": 104,
   "metadata": {
    "collapsed": false
   },
   "outputs": [],
   "source": [
    "class GridSymbol:\n",
    "    class _GridSymbol:\n",
    "        def __init__(self, value):\n",
    "            if value >= GridSymbol.number_of_symbols:\n",
    "                raise Exception(\"Can only have up to %i symbols\" % GridSymbol.number_of_symbols)\n",
    "            self.value = value\n",
    "        \n",
    "        def next_symbol(self):\n",
    "            return GridSymbol((self.value + 1) % GridSymbol.number_of_symbols)\n",
    "            \n",
    "    number_of_symbols = 3\n",
    "            \n",
    "    def __new__(cls, value):\n",
    "        return cls._cache[value]\n",
    "        \n",
    "    \n",
    "    \n",
    "GridSymbol._cache = [GridSymbol._GridSymbol(i) for i in range(GridSymbol.number_of_symbols)]\n",
    "    \n",
    "class Grid:\n",
    "    def __init__(self, rows, cols=None, grid_state=None):\n",
    "        if cols == None:\n",
    "            cols = rows\n",
    "        self.rows = rows\n",
    "        self.cols = cols\n",
    "        self.state = grid_state or self._default_state()\n",
    "        self._hash = None\n",
    "        \n",
    "    @staticmethod\n",
    "    def create_from_ints(int_list):\n",
    "        rows = len(int_list)\n",
    "        cols = len(int_list[0])\n",
    "        assert all([len(l) == cols for l in int_list])\n",
    "        return Grid(rows, cols, [GridSymbol(e) for row in int_list for e in row])\n",
    "        \n",
    "    def _default_state(self):\n",
    "        return [GridSymbol(0) for i in range(self.rows) for j in range(self.cols)]\n",
    "    \n",
    "    def get_cell(self, x, y):\n",
    "        assert(0 <= x < self.cols)\n",
    "        assert(0 <= y < self.rows)\n",
    "        return self.state[y*self.cols + x]\n",
    "    \n",
    "    def apply_shape(self, x, y, shape):\n",
    "        assert(x + shape.cols <= self.cols)\n",
    "        assert(y + shape.rows <= self.rows)\n",
    "        new_state = []\n",
    "        for i in range(self.cols):\n",
    "            for j in range(self.rows):\n",
    "                cell = self.get_cell(i, j)\n",
    "                new_state.append(cell.next_symbol() if shape.in_shape(i - x, j - y) else cell)\n",
    "                \n",
    "        return Grid(self.rows, self.cols, new_state)\n",
    "    \n",
    "    def apply_shape_everywhere(self, shape):\n",
    "        for x in range(self.cols - shape.cols + 1):\n",
    "            for y in range(self.rows - shape.rows + 1):\n",
    "                yield (x, y, self.apply_shape(x, y, shape))\n",
    "    \n",
    "    def __str__(self):\n",
    "        state = \"\\n\".join([\n",
    "            str([self.get_cell(i, j).value for i in range(self.cols)])\n",
    "            for j in range(self.rows)])\n",
    "        return \"{'rows': %s, 'cols': %s, 'state':\\n%s}\" % (self.rows, self.cols, state)\n",
    "    \n",
    "    __repr__ = __str__\n",
    "    \n",
    "    def __eq__(self, other):\n",
    "        return (self.rows == other.rows\n",
    "               and self.cols == other.cols\n",
    "               and self.state == other.state)\n",
    "    \n",
    "    def __hash__(self):\n",
    "        if self._hash is None:\n",
    "            self._hash = hash((self.rows, self.cols, self.state))\n",
    "        return self._hash\n",
    "        \n",
    "class Shape:\n",
    "    def __init__(self, rows, cols, mask):\n",
    "        assert(rows * cols == len(mask))\n",
    "        self.rows = rows\n",
    "        self.cols = cols\n",
    "        self.mask = [bool(i) for i in mask]\n",
    "        self._hash = None\n",
    "        \n",
    "    def in_shape(self, x, y):\n",
    "        return (0 <= x < self.cols and 0 <= y < self.rows) and self.mask[y*self.cols + x]\n",
    "    \n",
    "    def __eq__(self, other):\n",
    "        return (self.rows == other.rows\n",
    "               and self.cols == other.cols\n",
    "               and self.mask == other.mask)\n",
    "    \n",
    "    def __hash__(self):\n",
    "        if self._hash is None:\n",
    "            self._hash = hash((self.rows, self.cols, self.mask))\n",
    "        return self._hash"
   ]
  },
  {
   "cell_type": "code",
   "execution_count": 105,
   "metadata": {
    "collapsed": false
   },
   "outputs": [
    {
     "name": "stdout",
     "output_type": "stream",
     "text": [
      "{'rows': 3, 'cols': 3, 'state':\n",
      "[0, 0, 0]\n",
      "[0, 0, 1]\n",
      "[0, 1, 1]}\n"
     ]
    }
   ],
   "source": [
    "grid = Grid(3)\n",
    "shape = Shape(2, 2, [0, 1,\n",
    "              1, 1])\n",
    "print(grid.apply_shape(1, 1, shape))"
   ]
  },
  {
   "cell_type": "code",
   "execution_count": 106,
   "metadata": {
    "collapsed": false
   },
   "outputs": [
    {
     "data": {
      "text/plain": [
       "[(0, 0, {'rows': 3, 'cols': 3, 'state':\n",
       "  [0, 1, 0]\n",
       "  [1, 1, 0]\n",
       "  [0, 0, 0]}), (0, 1, {'rows': 3, 'cols': 3, 'state':\n",
       "  [0, 0, 1]\n",
       "  [0, 1, 1]\n",
       "  [0, 0, 0]}), (1, 0, {'rows': 3, 'cols': 3, 'state':\n",
       "  [0, 0, 0]\n",
       "  [0, 1, 0]\n",
       "  [1, 1, 0]}), (1, 1, {'rows': 3, 'cols': 3, 'state':\n",
       "  [0, 0, 0]\n",
       "  [0, 0, 1]\n",
       "  [0, 1, 1]})]"
      ]
     },
     "execution_count": 106,
     "metadata": {},
     "output_type": "execute_result"
    }
   ],
   "source": [
    "[x for x in grid.apply_shape_everywhere(shape)]"
   ]
  },
  {
   "cell_type": "code",
   "execution_count": 107,
   "metadata": {
    "collapsed": false
   },
   "outputs": [
    {
     "ename": "NameError",
     "evalue": "name 'l' is not defined",
     "output_type": "error",
     "traceback": [
      "\u001b[0;31m---------------------------------------------------------------------------\u001b[0m",
      "\u001b[0;31mNameError\u001b[0m                                 Traceback (most recent call last)",
      "\u001b[0;32m<ipython-input-107-1d941d7df35e>\u001b[0m in \u001b[0;36m<module>\u001b[0;34m()\u001b[0m\n\u001b[0;32m----> 1\u001b[0;31m \u001b[0ml\u001b[0m\u001b[0;34m.\u001b[0m\u001b[0mappend\u001b[0m\u001b[0;34m\u001b[0m\u001b[0m\n\u001b[0m",
      "\u001b[0;31mNameError\u001b[0m: name 'l' is not defined"
     ]
    }
   ],
   "source": [
    "l.append"
   ]
  },
  {
   "cell_type": "code",
   "execution_count": 112,
   "metadata": {
    "collapsed": true
   },
   "outputs": [],
   "source": [
    "def find_shape_path_inner(start_grid, shapes, end_grid, current_path):\n",
    "   # if start_grid == end_grid:\n",
    "   #     print(current_path)\n",
    "    if len(shapes) == 0:\n",
    "        return current_path if start_grid == end_grid else None\n",
    "    for next_step in start_grid.apply_shape_everywhere(shapes[0]):\n",
    "        result = yield from find_shape_path_inner(next_step[2], shapes[1:], end_grid, current_path + [next_step])\n",
    "        if result is not None:\n",
    "            yield result\n",
    "    return None\n",
    "            \n",
    "def find_shape_path(start_grid, shapes, end_grid):\n",
    "    return find_shape_path_inner(start_grid, shapes, end_grid, [])\n",
    "    \n",
    "        "
   ]
  },
  {
   "cell_type": "code",
   "execution_count": 114,
   "metadata": {
    "collapsed": false
   },
   "outputs": [
    {
     "data": {
      "text/plain": [
       "[(0, 0, {'rows': 3, 'cols': 3, 'state':\n",
       "  [0, 1, 0]\n",
       "  [1, 1, 0]\n",
       "  [0, 0, 0]}), (0, 1, {'rows': 3, 'cols': 3, 'state':\n",
       "  [0, 1, 1]\n",
       "  [1, 2, 1]\n",
       "  [0, 0, 0]}), (1, 1, {'rows': 3, 'cols': 3, 'state':\n",
       "  [0, 1, 0]\n",
       "  [1, 2, 1]\n",
       "  [1, 2, 1]})]"
      ]
     },
     "execution_count": 114,
     "metadata": {},
     "output_type": "execute_result"
    }
   ],
   "source": [
    "end_grid = Grid.create_from_ints([[0, 1, 0],\n",
    "                      [1, 2, 1],\n",
    "                      [1, 2, 1]])\n",
    "next(find_shape_path(grid, [shape, shape, shape], end_grid))"
   ]
  },
  {
   "cell_type": "code",
   "execution_count": 110,
   "metadata": {
    "collapsed": false
   },
   "outputs": [
    {
     "data": {
      "text/plain": [
       "{'rows': 3, 'cols': 3, 'state':\n",
       "[0, 1, 0]\n",
       "[1, 1, 1]\n",
       "[0, 1, 1]}"
      ]
     },
     "execution_count": 110,
     "metadata": {},
     "output_type": "execute_result"
    }
   ],
   "source": [
    "grid.apply_shape(0, 0, shape).apply_shape(1, 1, shape)"
   ]
  },
  {
   "cell_type": "code",
   "execution_count": 111,
   "metadata": {
    "collapsed": false
   },
   "outputs": [
    {
     "data": {
      "text/plain": [
       "{'rows': 3, 'cols': 3, 'state':\n",
       "[0, 1, 0]\n",
       "[1, 1, 1]\n",
       "[0, 1, 1]}"
      ]
     },
     "execution_count": 111,
     "metadata": {},
     "output_type": "execute_result"
    }
   ],
   "source": [
    "Grid.create_from_ints([[0, 1, 0],\n",
    "                      [1, 1, 1],\n",
    "                      [0, 1, 1]])"
   ]
  },
  {
   "cell_type": "code",
   "execution_count": 118,
   "metadata": {
    "collapsed": false
   },
   "outputs": [
    {
     "ename": "StopIteration",
     "evalue": "",
     "output_type": "error",
     "traceback": [
      "\u001b[0;31m---------------------------------------------------------------------------\u001b[0m",
      "\u001b[0;31mStopIteration\u001b[0m                             Traceback (most recent call last)",
      "\u001b[0;32m<ipython-input-118-ac3793cf58f3>\u001b[0m in \u001b[0;36m<module>\u001b[0;34m()\u001b[0m\n\u001b[1;32m     41\u001b[0m     ])\n\u001b[1;32m     42\u001b[0m ]\n\u001b[0;32m---> 43\u001b[0;31m \u001b[0mnext\u001b[0m\u001b[0;34m(\u001b[0m\u001b[0mfind_shape_path\u001b[0m\u001b[0;34m(\u001b[0m\u001b[0mstart\u001b[0m\u001b[0;34m,\u001b[0m \u001b[0mshapes\u001b[0m\u001b[0;34m,\u001b[0m \u001b[0mend\u001b[0m\u001b[0;34m)\u001b[0m\u001b[0;34m)\u001b[0m\u001b[0;34m\u001b[0m\u001b[0m\n\u001b[0m",
      "\u001b[0;31mStopIteration\u001b[0m: "
     ]
    }
   ],
   "source": [
    "# Cup: 0\n",
    "# Crown: 1\n",
    "# Sword: 2\n",
    "start = Grid.create_from_ints([\n",
    "    [2, 1, 1, 1],\n",
    "    [0, 1, 0, 0],\n",
    "    [0, 0, 1, 0],\n",
    "    [1, 1, 0, 2]\n",
    "])\n",
    "end = Grid.create_from_ints(4 * [4 * [2]])\n",
    "shape1 = Shape(3, 3, [\n",
    "    0, 1, 1,\n",
    "    0, 1, 0,\n",
    "    1, 1, 0\n",
    "])\n",
    "shapes = [\n",
    "    Shape(1, 2, [1, 1]),\n",
    "    shape1,\n",
    "    shape1,\n",
    "    Shape(3, 3, [\n",
    "        1, 0, 0,\n",
    "        1, 1, 0,\n",
    "        0, 1, 1\n",
    "    ]),\n",
    "    Shape(2, 1, [\n",
    "        1,\n",
    "        1\n",
    "    ]),\n",
    "    Shape(3, 3, [\n",
    "        1, 1, 0,\n",
    "        0, 1, 0,\n",
    "        0, 1, 1\n",
    "    ]),\n",
    "    shape1,\n",
    "    Shape(1, 3, [1, 1, 1]),\n",
    "    shape1,\n",
    "    Shape(3, 3, [\n",
    "        1, 1, 0,\n",
    "        1, 1, 0,\n",
    "        0, 1, 1\n",
    "    ])\n",
    "]\n",
    "next(find_shape_path(start, shapes, end))"
   ]
  },
  {
   "cell_type": "code",
   "execution_count": null,
   "metadata": {
    "collapsed": true
   },
   "outputs": [],
   "source": [
    "12 * 4 * 4 * 4 * 12 * 4 * 4 * 4 * 4 * 4"
   ]
  },
  {
   "cell_type": "code",
   "execution_count": null,
   "metadata": {
    "collapsed": true
   },
   "outputs": [],
   "source": []
  }
 ],
 "metadata": {
  "kernelspec": {
   "display_name": "Python 3",
   "language": "python",
   "name": "python3"
  },
  "language_info": {
   "codemirror_mode": {
    "name": "ipython",
    "version": 3
   },
   "file_extension": ".py",
   "mimetype": "text/x-python",
   "name": "python",
   "nbconvert_exporter": "python",
   "pygments_lexer": "ipython3",
   "version": "3.6.0"
  }
 },
 "nbformat": 4,
 "nbformat_minor": 2
}
