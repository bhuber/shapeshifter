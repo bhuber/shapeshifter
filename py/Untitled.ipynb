{
 "cells": [
  {
   "cell_type": "code",
   "execution_count": 30,
   "metadata": {
    "collapsed": false
   },
   "outputs": [],
   "source": [
    "class GridSymbol:\n",
    "    number_of_symbols = 3\n",
    "    def __init__(self, value):\n",
    "        if value >= self.number_of_symbols:\n",
    "            raise Exception(\"Can only have up to %i symbols\" % self.number_of_symbols)\n",
    "        self.value = value\n",
    "        \n",
    "    def next_symbol(self):\n",
    "        return GridSymbol((self.value + 1) % self.number_of_symbols)\n",
    "    \n",
    "class Grid:\n",
    "    def __init__(self, rows, cols=None, grid_state=None):\n",
    "        if cols == None:\n",
    "            cols = rows\n",
    "        self.rows = rows\n",
    "        self.cols = cols\n",
    "        self.state = grid_state or self._default_state()\n",
    "        \n",
    "    def _default_state(self):\n",
    "        return [GridSymbol(0) for i in range(self.rows) for j in range(self.cols)]\n",
    "    \n",
    "    def get_cell(self, x, y):\n",
    "        assert(0 <= x < self.cols)\n",
    "        assert(0 <= y < self.rows)\n",
    "        return self.state[y*self.cols + x]\n",
    "    \n",
    "    def apply_shape(self, x, y, shape):\n",
    "        assert(x + shape.cols <= self.cols)\n",
    "        assert(y + shape.rows <= self.rows)\n",
    "        new_state = []\n",
    "        for i in range(self.cols):\n",
    "            for j in range(self.rows):\n",
    "                cell = self.get_cell(i, j)\n",
    "                new_state.append(cell.next_symbol() if shape.in_shape(i - x, j - y) else cell)\n",
    "                \n",
    "        return Grid(self.rows, self.cols, new_state)\n",
    "    \n",
    "    def apply_shape_everywhere(self, shape):\n",
    "        \n",
    "    \n",
    "    def __str__(self):\n",
    "        state = [[self.get_cell(i, j).value for i in range(self.cols)] for j in range(self.rows)]\n",
    "        return str({'rows': self.rows, 'cols': self.cols, 'state':state})\n",
    "        \n",
    "class Shape:\n",
    "    def __init__(self, rows, cols, mask):\n",
    "        assert(rows * cols == len(mask))\n",
    "        self.rows = rows\n",
    "        self.cols = cols\n",
    "        self.mask = [bool(i) for i in mask]\n",
    "        \n",
    "    def in_shape(self, x, y):\n",
    "        return (0 <= x < self.cols and 0 <= y < self.rows) and self.mask[y*self.cols + x]"
   ]
  },
  {
   "cell_type": "code",
   "execution_count": 32,
   "metadata": {
    "collapsed": false
   },
   "outputs": [
    {
     "name": "stdout",
     "output_type": "stream",
     "text": [
      "{'x': 1, 'y': 1}\n"
     ]
    },
    {
     "data": {
      "text/plain": [
       "\"{'rows': 3, 'cols': 3, 'state': [[0, 0, 0], [0, 0, 1], [0, 1, 1]]}\""
      ]
     },
     "execution_count": 32,
     "metadata": {},
     "output_type": "execute_result"
    }
   ],
   "source": [
    "grid = Grid(3)\n",
    "shape = Shape(2, 2, [0, 1,\n",
    "              1, 1])\n",
    "str(grid.apply_shape(1, 1, shape))"
   ]
  },
  {
   "cell_type": "code",
   "execution_count": 19,
   "metadata": {
    "collapsed": true
   },
   "outputs": [],
   "source": [
    "l = [1, 2, 3]"
   ]
  },
  {
   "cell_type": "code",
   "execution_count": 23,
   "metadata": {
    "collapsed": false
   },
   "outputs": [
    {
     "data": {
      "text/plain": [
       "True"
      ]
     },
     "execution_count": 23,
     "metadata": {},
     "output_type": "execute_result"
    }
   ],
   "source": [
    "l.append"
   ]
  },
  {
   "cell_type": "code",
   "execution_count": null,
   "metadata": {
    "collapsed": true
   },
   "outputs": [],
   "source": []
  }
 ],
 "metadata": {
  "kernelspec": {
   "display_name": "Python 3",
   "language": "python",
   "name": "python3"
  },
  "language_info": {
   "codemirror_mode": {
    "name": "ipython",
    "version": 3
   },
   "file_extension": ".py",
   "mimetype": "text/x-python",
   "name": "python",
   "nbconvert_exporter": "python",
   "pygments_lexer": "ipython3",
   "version": "3.6.0"
  }
 },
 "nbformat": 4,
 "nbformat_minor": 2
}
